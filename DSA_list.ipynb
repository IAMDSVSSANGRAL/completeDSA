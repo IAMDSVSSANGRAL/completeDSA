{
  "nbformat": 4,
  "nbformat_minor": 0,
  "metadata": {
    "colab": {
      "provenance": [],
      "authorship_tag": "ABX9TyNLTbHS9/LNzoUhS73bSV9W",
      "include_colab_link": true
    },
    "kernelspec": {
      "name": "python3",
      "display_name": "Python 3"
    },
    "language_info": {
      "name": "python"
    }
  },
  "cells": [
    {
      "cell_type": "markdown",
      "metadata": {
        "id": "view-in-github",
        "colab_type": "text"
      },
      "source": [
        "<a href=\"https://colab.research.google.com/github/IAMDSVSSANGRAL/completeDSA/blob/main/DSA_list.ipynb\" target=\"_parent\"><img src=\"https://colab.research.google.com/assets/colab-badge.svg\" alt=\"Open In Colab\"/></a>"
      ]
    },
    {
      "cell_type": "markdown",
      "source": [
        "### Array"
      ],
      "metadata": {
        "id": "kfM2aNim--8_"
      }
    },
    {
      "cell_type": "code",
      "source": [
        "import numpy as np"
      ],
      "metadata": {
        "id": "AgKOUWg6-90J"
      },
      "execution_count": 37,
      "outputs": []
    },
    {
      "cell_type": "code",
      "source": [
        "z_a  = np.array([1,2,3,4,5],list)"
      ],
      "metadata": {
        "id": "bDx6Kk_j_HaN"
      },
      "execution_count": 49,
      "outputs": []
    },
    {
      "cell_type": "code",
      "source": [
        "type(z_a)"
      ],
      "metadata": {
        "colab": {
          "base_uri": "https://localhost:8080/"
        },
        "id": "ZKv07jVfA01t",
        "outputId": "77e15e99-36c3-4d39-bc16-623f28fa8ea2"
      },
      "execution_count": 50,
      "outputs": [
        {
          "output_type": "execute_result",
          "data": {
            "text/plain": [
              "numpy.ndarray"
            ]
          },
          "metadata": {},
          "execution_count": 50
        }
      ]
    },
    {
      "cell_type": "markdown",
      "source": [],
      "metadata": {
        "id": "Kg5gqQxS_zPu"
      }
    },
    {
      "cell_type": "code",
      "source": [
        "import array as ar"
      ],
      "metadata": {
        "id": "JleZbY98_k_y"
      },
      "execution_count": 44,
      "outputs": []
    },
    {
      "cell_type": "code",
      "source": [
        "z_b = ar.array('i',[1,2,3,4,5])"
      ],
      "metadata": {
        "id": "AvmojKJWARUr"
      },
      "execution_count": 46,
      "outputs": []
    },
    {
      "cell_type": "code",
      "source": [
        "type(z_b)"
      ],
      "metadata": {
        "colab": {
          "base_uri": "https://localhost:8080/"
        },
        "id": "XZKZnrrPAxUA",
        "outputId": "5ec16e73-a04e-424d-eb28-30754726f8eb"
      },
      "execution_count": 47,
      "outputs": [
        {
          "output_type": "execute_result",
          "data": {
            "text/plain": [
              "array.array"
            ]
          },
          "metadata": {},
          "execution_count": 47
        }
      ]
    },
    {
      "cell_type": "code",
      "source": [
        "z_b.pop"
      ],
      "metadata": {
        "id": "84Zjg7E6A4up"
      },
      "execution_count": null,
      "outputs": []
    },
    {
      "cell_type": "code",
      "execution_count": 1,
      "metadata": {
        "id": "uqxSy6FS2R7f"
      },
      "outputs": [],
      "source": [
        "X = [2,3,4,5,6,7,8]"
      ]
    },
    {
      "cell_type": "code",
      "source": [
        "import numpy as np\n",
        "\n",
        "def avg(n):\n",
        "  return np.mean(n)"
      ],
      "metadata": {
        "id": "el20N4ov3dQA"
      },
      "execution_count": 13,
      "outputs": []
    },
    {
      "cell_type": "code",
      "source": [
        "avg(X)"
      ],
      "metadata": {
        "colab": {
          "base_uri": "https://localhost:8080/"
        },
        "id": "l47dqYJp3rUF",
        "outputId": "31ef3212-538a-4a0f-b0bc-af1e512fd2c4"
      },
      "execution_count": 14,
      "outputs": [
        {
          "output_type": "execute_result",
          "data": {
            "text/plain": [
              "5.0"
            ]
          },
          "metadata": {},
          "execution_count": 14
        }
      ]
    },
    {
      "cell_type": "code",
      "source": [
        "def average(n):\n",
        "  return sum(n)/len(n)"
      ],
      "metadata": {
        "id": "1FqQZR8o2r7V"
      },
      "execution_count": 15,
      "outputs": []
    },
    {
      "cell_type": "code",
      "source": [
        "average(X)"
      ],
      "metadata": {
        "colab": {
          "base_uri": "https://localhost:8080/"
        },
        "id": "3dpfcGUf20oX",
        "outputId": "8662378d-10e6-48c3-8c8f-1e69e5c9168b"
      },
      "execution_count": 16,
      "outputs": [
        {
          "output_type": "execute_result",
          "data": {
            "text/plain": [
              "5.0"
            ]
          },
          "metadata": {},
          "execution_count": 16
        }
      ]
    },
    {
      "cell_type": "code",
      "source": [
        "5//2"
      ],
      "metadata": {
        "colab": {
          "base_uri": "https://localhost:8080/"
        },
        "id": "MIa2jFeMRUkL",
        "outputId": "2106d555-98ad-4933-8d40-3ab42ae2cbcf"
      },
      "execution_count": 107,
      "outputs": [
        {
          "output_type": "execute_result",
          "data": {
            "text/plain": [
              "2"
            ]
          },
          "metadata": {},
          "execution_count": 107
        }
      ]
    },
    {
      "cell_type": "markdown",
      "source": [
        "###mean and median of array"
      ],
      "metadata": {
        "id": "4DhtZ1BJb9aC"
      }
    },
    {
      "cell_type": "code",
      "source": [
        "class solution :\n",
        "  def mean(self,n):\n",
        "    return sum(n)/len(n)\n",
        "\n",
        "  def median(self,n):\n",
        "    n_sorted = n.sort()\n",
        "\n",
        "    if len(n)%2 == 0:\n",
        "      i = int(len(n)/2)\n",
        "      j = int(len(n)/2 + 1)\n",
        "\n",
        "      z = (n[i-1]+n[j-1])/2\n",
        "      return z\n",
        "\n",
        "    else :\n",
        "      k = int((len(n)+1)/2)\n",
        "      return n[k-1]"
      ],
      "metadata": {
        "id": "14QIKxJyCVHF"
      },
      "execution_count": 98,
      "outputs": []
    },
    {
      "cell_type": "code",
      "source": [
        "class Solution:\n",
        "    ##Complete the below codes\n",
        "    #Function to find median of the array elements.\n",
        "    def median(self,A,N):\n",
        "        A.sort()\n",
        "        if N%2 == 0 :\n",
        "            median = (A[N//2 - 1] + A[N//2])//2\n",
        "            return median\n",
        "        else :\n",
        "            median = A[N//2]\n",
        "            return median\n",
        "        ##Your code here\n",
        "        #If median is fraction then convert the median to integer and return\n",
        "\n",
        "    #Function to find mean of the array elements.\n",
        "    def mean(self,A,N):\n",
        "        return int(sum(A)/N)\n",
        ""
      ],
      "metadata": {
        "id": "AMf5rTJZbvJJ"
      },
      "execution_count": 108,
      "outputs": []
    },
    {
      "cell_type": "code",
      "source": [
        "X = solution()"
      ],
      "metadata": {
        "id": "-6PaB63kEiiK"
      },
      "execution_count": 100,
      "outputs": []
    },
    {
      "cell_type": "code",
      "source": [
        "y = [1,2,3,4,5,6]\n",
        "z = [1,2,3,4,5,6,7]"
      ],
      "metadata": {
        "id": "iCvvR2c2Em3P"
      },
      "execution_count": 101,
      "outputs": []
    },
    {
      "cell_type": "code",
      "source": [
        "int(len(y)/2 + 1 )"
      ],
      "metadata": {
        "colab": {
          "base_uri": "https://localhost:8080/"
        },
        "id": "usMr8t7DHhF_",
        "outputId": "33fe9667-3352-4cfc-b2bc-945ad3e42f48"
      },
      "execution_count": 102,
      "outputs": [
        {
          "output_type": "execute_result",
          "data": {
            "text/plain": [
              "4"
            ]
          },
          "metadata": {},
          "execution_count": 102
        }
      ]
    },
    {
      "cell_type": "code",
      "source": [
        "X.mean(y)"
      ],
      "metadata": {
        "colab": {
          "base_uri": "https://localhost:8080/"
        },
        "id": "5FOpf59uEvui",
        "outputId": "0081a6fc-d313-4d6c-ad86-3da0d27839b4"
      },
      "execution_count": 103,
      "outputs": [
        {
          "output_type": "execute_result",
          "data": {
            "text/plain": [
              "3.5"
            ]
          },
          "metadata": {},
          "execution_count": 103
        }
      ]
    },
    {
      "cell_type": "code",
      "source": [],
      "metadata": {
        "id": "5Qck9nopJH1u"
      },
      "execution_count": 103,
      "outputs": []
    },
    {
      "cell_type": "code",
      "source": [
        "y[2]"
      ],
      "metadata": {
        "colab": {
          "base_uri": "https://localhost:8080/"
        },
        "id": "OYHVnPS_I0lA",
        "outputId": "c459faf3-04d9-4a17-ebfe-8762c77d945f"
      },
      "execution_count": 104,
      "outputs": [
        {
          "output_type": "execute_result",
          "data": {
            "text/plain": [
              "3"
            ]
          },
          "metadata": {},
          "execution_count": 104
        }
      ]
    },
    {
      "cell_type": "code",
      "source": [
        "X.median(y)"
      ],
      "metadata": {
        "colab": {
          "base_uri": "https://localhost:8080/"
        },
        "id": "dkNjQktKIiE2",
        "outputId": "6998a697-fafa-4591-c1dd-5f5699d752e8"
      },
      "execution_count": 105,
      "outputs": [
        {
          "output_type": "execute_result",
          "data": {
            "text/plain": [
              "3.5"
            ]
          },
          "metadata": {},
          "execution_count": 105
        }
      ]
    },
    {
      "cell_type": "code",
      "source": [
        "X.median(z)"
      ],
      "metadata": {
        "colab": {
          "base_uri": "https://localhost:8080/"
        },
        "id": "9VjMkvCEJASP",
        "outputId": "3e6fc28d-5007-4fe8-e740-155109965afb"
      },
      "execution_count": 106,
      "outputs": [
        {
          "output_type": "execute_result",
          "data": {
            "text/plain": [
              "4"
            ]
          },
          "metadata": {},
          "execution_count": 106
        }
      ]
    },
    {
      "cell_type": "markdown",
      "source": [
        "###splitting odd and even"
      ],
      "metadata": {
        "id": "XIWSa8A68B1h"
      }
    },
    {
      "cell_type": "code",
      "source": [
        "import random"
      ],
      "metadata": {
        "id": "CWcZHcxc7blB"
      },
      "execution_count": 17,
      "outputs": []
    },
    {
      "cell_type": "code",
      "source": [
        "y = []\n",
        "for _ in range(10):\n",
        "  y.append(random.randint(13,88))"
      ],
      "metadata": {
        "id": "WzMNB2Ff8HMc"
      },
      "execution_count": 21,
      "outputs": []
    },
    {
      "cell_type": "code",
      "source": [
        "print(y)"
      ],
      "metadata": {
        "colab": {
          "base_uri": "https://localhost:8080/"
        },
        "id": "lF8nN0kl8R_a",
        "outputId": "f58223f0-b566-4a1f-90f3-7bcaaafccfee"
      },
      "execution_count": 22,
      "outputs": [
        {
          "output_type": "stream",
          "name": "stdout",
          "text": [
            "[51, 70, 38, 81, 65, 58, 25, 15, 80, 50]\n"
          ]
        }
      ]
    },
    {
      "cell_type": "code",
      "source": [
        "def split(n):\n",
        "  eve = []\n",
        "  odd = []\n",
        "  for i in n:\n",
        "    if (i%2 == 0) :\n",
        "      eve.append(i)\n",
        "    else:\n",
        "      odd.append(i)\n",
        "\n",
        "  print(f'i am the list of even number {eve}')\n",
        "  print(f'i am the list of odd number {odd}')"
      ],
      "metadata": {
        "id": "CH1tHG5U89WJ"
      },
      "execution_count": 34,
      "outputs": []
    },
    {
      "cell_type": "code",
      "source": [
        "split(y)"
      ],
      "metadata": {
        "colab": {
          "base_uri": "https://localhost:8080/"
        },
        "id": "6HYbmnwU9fKl",
        "outputId": "e7fbd8e1-b495-4026-8835-d89aa80de9a4"
      },
      "execution_count": 35,
      "outputs": [
        {
          "output_type": "stream",
          "name": "stdout",
          "text": [
            "i am the list of even number [70, 38, 58, 80, 50]\n",
            "i am the list of odd number [51, 81, 65, 25, 15]\n"
          ]
        }
      ]
    },
    {
      "cell_type": "code",
      "source": [
        "def smallelement(arr , x):\n",
        "  z = []\n",
        "  for i in arr:\n",
        "    if i < x:\n",
        "      z.append(i)\n",
        "\n",
        "  return z"
      ],
      "metadata": {
        "id": "SqF4zUbgCCPE"
      },
      "execution_count": 112,
      "outputs": []
    },
    {
      "cell_type": "code",
      "source": [
        "arr = ar.array('i', [23,45,1,2,3,5,6])\n",
        "x = 10"
      ],
      "metadata": {
        "id": "1Yl8If4wjByp"
      },
      "execution_count": 113,
      "outputs": []
    },
    {
      "cell_type": "code",
      "source": [
        "smallelement(arr,x)"
      ],
      "metadata": {
        "colab": {
          "base_uri": "https://localhost:8080/"
        },
        "id": "2AvbhQW2i_vY",
        "outputId": "ac7fe811-fd2f-4447-ca38-63a0eb1e934e"
      },
      "execution_count": 114,
      "outputs": [
        {
          "output_type": "execute_result",
          "data": {
            "text/plain": [
              "[1, 2, 3, 5, 6]"
            ]
          },
          "metadata": {},
          "execution_count": 114
        }
      ]
    },
    {
      "cell_type": "code",
      "source": [
        "str = 'my name is vishal'"
      ],
      "metadata": {
        "id": "K2m1dLMsjVKX"
      },
      "execution_count": 115,
      "outputs": []
    },
    {
      "cell_type": "code",
      "source": [
        "print(len((str[:3])))"
      ],
      "metadata": {
        "colab": {
          "base_uri": "https://localhost:8080/"
        },
        "id": "lMTkctpaj3Fv",
        "outputId": "83f8e5e4-c136-4166-9499-ee9d8e0dc05c"
      },
      "execution_count": 118,
      "outputs": [
        {
          "output_type": "stream",
          "name": "stdout",
          "text": [
            "3\n"
          ]
        }
      ]
    },
    {
      "cell_type": "code",
      "source": [
        "str[1:5]"
      ],
      "metadata": {
        "colab": {
          "base_uri": "https://localhost:8080/",
          "height": 35
        },
        "id": "gpqmxLIrj88j",
        "outputId": "79d909c3-fdc7-43c6-e089-a87e008fecab"
      },
      "execution_count": 119,
      "outputs": [
        {
          "output_type": "execute_result",
          "data": {
            "text/plain": [
              "'y na'"
            ],
            "application/vnd.google.colaboratory.intrinsic+json": {
              "type": "string"
            }
          },
          "metadata": {},
          "execution_count": 119
        }
      ]
    },
    {
      "cell_type": "code",
      "source": [
        "str[1:5:2]"
      ],
      "metadata": {
        "colab": {
          "base_uri": "https://localhost:8080/",
          "height": 35
        },
        "id": "3KDRh_9vkM2X",
        "outputId": "947cf68f-6fc4-4367-fefa-cd33d39407cb"
      },
      "execution_count": 120,
      "outputs": [
        {
          "output_type": "execute_result",
          "data": {
            "text/plain": [
              "'yn'"
            ],
            "application/vnd.google.colaboratory.intrinsic+json": {
              "type": "string"
            }
          },
          "metadata": {},
          "execution_count": 120
        }
      ]
    },
    {
      "cell_type": "code",
      "source": [
        "x = [10,4,6,13,3,5,7]"
      ],
      "metadata": {
        "id": "offoWjeOkUQb"
      },
      "execution_count": 127,
      "outputs": []
    },
    {
      "cell_type": "code",
      "source": [
        "len(x)"
      ],
      "metadata": {
        "colab": {
          "base_uri": "https://localhost:8080/"
        },
        "id": "7zyHvdcon_LW",
        "outputId": "e6b53ca9-ba8b-475e-9794-cae062c0879a"
      },
      "execution_count": 128,
      "outputs": [
        {
          "output_type": "execute_result",
          "data": {
            "text/plain": [
              "7"
            ]
          },
          "metadata": {},
          "execution_count": 128
        }
      ]
    },
    {
      "cell_type": "code",
      "source": [
        "def getmax(l):\n",
        "  for i in l:\n",
        "    for j in l:\n",
        "      if j>i:\n",
        "        break\n",
        "    else:\n",
        "      return i\n",
        "  return None\n",
        ""
      ],
      "metadata": {
        "id": "f3Khq6CynA3Y"
      },
      "execution_count": 122,
      "outputs": []
    },
    {
      "cell_type": "code",
      "source": [
        "def max(l):\n",
        "  x.sort()\n",
        "  i = len(x)-1\n",
        "  return x[i]"
      ],
      "metadata": {
        "id": "jYmlGbd5nnEi"
      },
      "execution_count": 129,
      "outputs": []
    },
    {
      "cell_type": "code",
      "source": [
        "max(x)"
      ],
      "metadata": {
        "colab": {
          "base_uri": "https://localhost:8080/"
        },
        "id": "FDFvo-PmoPNY",
        "outputId": "5f4145a2-88c1-48a0-ac4c-16ad5c6d3704"
      },
      "execution_count": 130,
      "outputs": [
        {
          "output_type": "execute_result",
          "data": {
            "text/plain": [
              "13"
            ]
          },
          "metadata": {},
          "execution_count": 130
        }
      ]
    },
    {
      "cell_type": "code",
      "source": [
        "def scdmax(l):\n",
        "  x.sort()\n",
        "  i = len(x)-2\n",
        "  return x[i]"
      ],
      "metadata": {
        "id": "TjX2F8mxoS0Z"
      },
      "execution_count": 132,
      "outputs": []
    },
    {
      "cell_type": "code",
      "source": [
        "scdmax(x)"
      ],
      "metadata": {
        "colab": {
          "base_uri": "https://localhost:8080/"
        },
        "id": "dVxRsSpjokV3",
        "outputId": "2c4917d4-4491-4d23-c35b-b1c4b99a01f1"
      },
      "execution_count": 133,
      "outputs": [
        {
          "output_type": "execute_result",
          "data": {
            "text/plain": [
              "10"
            ]
          },
          "metadata": {},
          "execution_count": 133
        }
      ]
    },
    {
      "cell_type": "code",
      "source": [
        "x = [10,4,6,13,3,5,7]"
      ],
      "metadata": {
        "id": "hqZPbP3Asf8j"
      },
      "execution_count": 139,
      "outputs": []
    },
    {
      "cell_type": "code",
      "source": [
        "def getMax(l):\n",
        "    for x in l:\n",
        "      print(x)\n",
        "      for y in l:\n",
        "        print(y)\n",
        "      print('----')\n",
        "    #         if y > x:\n",
        "    #             break\n",
        "    #     else:\n",
        "    #         return x\n",
        "    # return None"
      ],
      "metadata": {
        "id": "TchfkZ98ooUJ"
      },
      "execution_count": 150,
      "outputs": []
    },
    {
      "cell_type": "code",
      "source": [
        "getMax(x)"
      ],
      "metadata": {
        "colab": {
          "base_uri": "https://localhost:8080/"
        },
        "id": "hIbcJoyztCWu",
        "outputId": "c93ef2c4-f43e-4122-9a94-0d0b36554320"
      },
      "execution_count": 151,
      "outputs": [
        {
          "output_type": "stream",
          "name": "stdout",
          "text": [
            "10\n",
            "10\n",
            "4\n",
            "6\n",
            "13\n",
            "3\n",
            "5\n",
            "7\n",
            "----\n",
            "4\n",
            "10\n",
            "4\n",
            "6\n",
            "13\n",
            "3\n",
            "5\n",
            "7\n",
            "----\n",
            "6\n",
            "10\n",
            "4\n",
            "6\n",
            "13\n",
            "3\n",
            "5\n",
            "7\n",
            "----\n",
            "13\n",
            "10\n",
            "4\n",
            "6\n",
            "13\n",
            "3\n",
            "5\n",
            "7\n",
            "----\n",
            "3\n",
            "10\n",
            "4\n",
            "6\n",
            "13\n",
            "3\n",
            "5\n",
            "7\n",
            "----\n",
            "5\n",
            "10\n",
            "4\n",
            "6\n",
            "13\n",
            "3\n",
            "5\n",
            "7\n",
            "----\n",
            "7\n",
            "10\n",
            "4\n",
            "6\n",
            "13\n",
            "3\n",
            "5\n",
            "7\n",
            "----\n"
          ]
        }
      ]
    },
    {
      "cell_type": "code",
      "source": [],
      "metadata": {
        "id": "_ul-88ZNtLYn"
      },
      "execution_count": null,
      "outputs": []
    }
  ]
}