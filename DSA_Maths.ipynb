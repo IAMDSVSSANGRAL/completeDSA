{
  "nbformat": 4,
  "nbformat_minor": 0,
  "metadata": {
    "colab": {
      "provenance": [],
      "authorship_tag": "ABX9TyNfhYkSGjveOb80VAYGYNIe",
      "include_colab_link": true
    },
    "kernelspec": {
      "name": "python3",
      "display_name": "Python 3"
    },
    "language_info": {
      "name": "python"
    }
  },
  "cells": [
    {
      "cell_type": "markdown",
      "metadata": {
        "id": "view-in-github",
        "colab_type": "text"
      },
      "source": [
        "<a href=\"https://colab.research.google.com/github/IAMDSVSSANGRAL/completeDSA/blob/main/DSA_Maths.ipynb\" target=\"_parent\"><img src=\"https://colab.research.google.com/assets/colab-badge.svg\" alt=\"Open In Colab\"/></a>"
      ]
    },
    {
      "cell_type": "markdown",
      "source": [
        "###Divisor of a number.\n",
        "\n"
      ],
      "metadata": {
        "id": "yRRZ4QKy7KuN"
      }
    },
    {
      "cell_type": "markdown",
      "source": [
        "####Naive method"
      ],
      "metadata": {
        "id": "z74S3nAJOHoa"
      }
    },
    {
      "cell_type": "code",
      "source": [
        "def printdivisor(n):\n",
        "  i = 1\n",
        "  while i<=n:\n",
        "    if n%i == 0:\n",
        "      print(i)\n",
        "\n",
        "    i = i +1"
      ],
      "metadata": {
        "id": "0Jsf9DomOUbA"
      },
      "execution_count": 3,
      "outputs": []
    },
    {
      "cell_type": "markdown",
      "source": [
        "#### In the above naive solution the concpet is we run a loop from 1 to n and if the remainder of n and i is 0, print the number i , Time complexity O(n) and auxiliary space O(1)."
      ],
      "metadata": {
        "id": "vIUx65uoPvNB"
      }
    },
    {
      "cell_type": "markdown",
      "source": [
        "#### Efficient Way"
      ],
      "metadata": {
        "id": "dk_KommeQJVz"
      }
    },
    {
      "cell_type": "code",
      "source": [
        "import math\n",
        "\n",
        "def printdivisor(n):\n",
        "  i = 1\n",
        "  while i <=math.sqrt(n):\n",
        "    if n%i == 0 :\n",
        "      if n/i == i:\n",
        "        print(i,end =\" \")\n",
        "\n",
        "      else :\n",
        "        print(i, int(n/i), end =\" \")\n",
        "    i = i+1\n"
      ],
      "metadata": {
        "id": "fx0zAzQgO8SD"
      },
      "execution_count": 16,
      "outputs": []
    },
    {
      "cell_type": "code",
      "source": [
        "printdivisor(20)"
      ],
      "metadata": {
        "colab": {
          "base_uri": "https://localhost:8080/"
        },
        "id": "TeHoALTHVsAE",
        "outputId": "d62a5c0c-1313-4910-e1ee-1d900f5dfe47"
      },
      "execution_count": 18,
      "outputs": [
        {
          "output_type": "stream",
          "name": "stdout",
          "text": [
            "1 20 2 10 4 5 "
          ]
        }
      ]
    },
    {
      "cell_type": "markdown",
      "source": [
        "#### loop over sqrt of N , Then check n/i == i than print i or else print i, n/i both."
      ],
      "metadata": {
        "id": "67JVUAEDVMzE"
      }
    },
    {
      "cell_type": "markdown",
      "source": [
        "###Exact 3 divisor - Given a positive integer value N. The task is to find how many numbers less than or equal to N have numbers of divisors exactly equal to 3."
      ],
      "metadata": {
        "id": "AIPTp5R3XJPg"
      }
    },
    {
      "cell_type": "markdown",
      "source": [
        "#### first to check the number is prime , than run a for loop on sqrt of N , and in that loop check for prime i as only square of prime number will give us number that has exactly three divisors."
      ],
      "metadata": {
        "id": "uzm3G1c_ZWpX"
      }
    },
    {
      "cell_type": "code",
      "source": [
        "class solution:\n",
        "  def isprime(n):\n",
        "    if n == 1:\n",
        "      return False\n",
        "\n",
        "    else :\n",
        "      for i in range(2, 1 +int(math.sqrt(n))):\n",
        "        if n%i == 0 :\n",
        "          return False\n",
        "\n",
        "  def exact3divisor(n):\n",
        "    counter = 0\n"
      ],
      "metadata": {
        "id": "byJCKgSXZ7rx"
      },
      "execution_count": null,
      "outputs": []
    },
    {
      "cell_type": "markdown",
      "source": [
        "#### Three Divisor- Leetcode"
      ],
      "metadata": {
        "id": "7fkOKCd8FuXW"
      }
    },
    {
      "cell_type": "code",
      "source": [
        "class Solution:\n",
        "    def isThree(self, n: int) -> bool:\n",
        "        count=0\n",
        "        for i in range(1,n+1):\n",
        "            if n%i==0:\n",
        "                count+=1\n",
        "        if count==3:\n",
        "            return True\n",
        "        else:return False"
      ],
      "metadata": {
        "id": "4QQEARicFuFv"
      },
      "execution_count": 72,
      "outputs": []
    },
    {
      "cell_type": "code",
      "source": [],
      "metadata": {
        "id": "CBXIzDZWIxqT"
      },
      "execution_count": null,
      "outputs": []
    }
  ]
}