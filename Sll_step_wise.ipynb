{
  "nbformat": 4,
  "nbformat_minor": 0,
  "metadata": {
    "colab": {
      "provenance": [],
      "authorship_tag": "ABX9TyMA1huhja5NeTqOcrQl42+8",
      "include_colab_link": true
    },
    "kernelspec": {
      "name": "python3",
      "display_name": "Python 3"
    },
    "language_info": {
      "name": "python"
    }
  },
  "cells": [
    {
      "cell_type": "markdown",
      "metadata": {
        "id": "view-in-github",
        "colab_type": "text"
      },
      "source": [
        "<a href=\"https://colab.research.google.com/github/IAMDSVSSANGRAL/completeDSA/blob/main/Sll_step_wise.ipynb\" target=\"_parent\"><img src=\"https://colab.research.google.com/assets/colab-badge.svg\" alt=\"Open In Colab\"/></a>"
      ]
    },
    {
      "cell_type": "markdown",
      "source": [
        "# Practical implementation of linked_list"
      ],
      "metadata": {
        "id": "V54Rog4wJEDe"
      }
    },
    {
      "cell_type": "markdown",
      "source": [
        "#### 1. DEFINE A CLASS NODE TO DESCRIBE A NODE OF A SINGLY LINKED LIST?"
      ],
      "metadata": {
        "id": "IIHNDTj-JTBK"
      }
    },
    {
      "cell_type": "code",
      "source": [
        "class Node:\n",
        "  def __init__(self,item = None, next = None):\n",
        "    self.item = item\n",
        "    self.next = next"
      ],
      "metadata": {
        "id": "CX04DSJhJOH3"
      },
      "execution_count": 1,
      "outputs": []
    },
    {
      "cell_type": "code",
      "source": [
        "abc = Node(1,)"
      ],
      "metadata": {
        "id": "3aH8c02da3sp"
      },
      "execution_count": 6,
      "outputs": []
    },
    {
      "cell_type": "code",
      "source": [
        "abc.item"
      ],
      "metadata": {
        "colab": {
          "base_uri": "https://localhost:8080/"
        },
        "id": "ToH5hKiXa78o",
        "outputId": "57ed99e4-afb1-4125-ab95-8a2d80ac5018"
      },
      "execution_count": 7,
      "outputs": [
        {
          "output_type": "execute_result",
          "data": {
            "text/plain": [
              "1"
            ]
          },
          "metadata": {},
          "execution_count": 7
        }
      ]
    },
    {
      "cell_type": "code",
      "source": [],
      "metadata": {
        "id": "q2PeR2d3bDwg"
      },
      "execution_count": null,
      "outputs": []
    },
    {
      "cell_type": "markdown",
      "source": [
        "### 2. Define a class SLL to implement Singly Linked List with _ init_ () method to create and initialise start reference variable."
      ],
      "metadata": {
        "id": "siqFhPEIKkUT"
      }
    },
    {
      "cell_type": "code",
      "source": [
        "class SLL:\n",
        "  def __init__(self,astart = None):\n",
        "    self.start = astart"
      ],
      "metadata": {
        "id": "uf66OoYfKenn"
      },
      "execution_count": 9,
      "outputs": []
    },
    {
      "cell_type": "code",
      "source": [
        "abc = SLL(10)"
      ],
      "metadata": {
        "id": "kJtMjo8Sd1V4"
      },
      "execution_count": 10,
      "outputs": []
    },
    {
      "cell_type": "code",
      "source": [
        "#calling the attribute\n",
        "abc.start"
      ],
      "metadata": {
        "colab": {
          "base_uri": "https://localhost:8080/"
        },
        "id": "Tigyq8EVd57K",
        "outputId": "988808df-e9c4-4de7-c119-3e19846080ac"
      },
      "execution_count": 11,
      "outputs": [
        {
          "output_type": "execute_result",
          "data": {
            "text/plain": [
              "10"
            ]
          },
          "metadata": {},
          "execution_count": 11
        }
      ]
    },
    {
      "cell_type": "markdown",
      "source": [
        "###3. Define a method is_empty() to check if the linked list is empty in SLL class."
      ],
      "metadata": {
        "id": "scmdJUTMLOFi"
      }
    },
    {
      "cell_type": "code",
      "source": [
        "class Node:\n",
        "  def __init__(self,aitem = None,anext = None):\n",
        "    self.item = aitem\n",
        "    self.next = anext\n",
        "\n",
        "class SLL:\n",
        "  def __init__(self,astart = None):\n",
        "    self.start = astart\n",
        "\n",
        "  def is_empty(self):\n",
        "    return self.start == None"
      ],
      "metadata": {
        "id": "SnMelMy8eC52"
      },
      "execution_count": 32,
      "outputs": []
    },
    {
      "cell_type": "code",
      "source": [
        "abc = SLL(30)"
      ],
      "metadata": {
        "id": "70y6cRF2etsT"
      },
      "execution_count": 19,
      "outputs": []
    },
    {
      "cell_type": "code",
      "source": [
        "dE = SLL()"
      ],
      "metadata": {
        "id": "8y3UBnKHgZmt"
      },
      "execution_count": 20,
      "outputs": []
    },
    {
      "cell_type": "code",
      "source": [
        "#calling an method\n",
        "abc.is_empty()"
      ],
      "metadata": {
        "colab": {
          "base_uri": "https://localhost:8080/"
        },
        "id": "ULjLNt_yeyJH",
        "outputId": "895bbc86-bb22-4fc0-f56c-6bcd2731ab80"
      },
      "execution_count": 21,
      "outputs": [
        {
          "output_type": "execute_result",
          "data": {
            "text/plain": [
              "False"
            ]
          },
          "metadata": {},
          "execution_count": 21
        }
      ]
    },
    {
      "cell_type": "code",
      "source": [
        "dE.is_empty()"
      ],
      "metadata": {
        "colab": {
          "base_uri": "https://localhost:8080/"
        },
        "id": "hv9rxwkkgks0",
        "outputId": "6f91c1f5-d98d-4da2-d811-df1f82727e96"
      },
      "execution_count": 22,
      "outputs": [
        {
          "output_type": "execute_result",
          "data": {
            "text/plain": [
              "True"
            ]
          },
          "metadata": {},
          "execution_count": 22
        }
      ]
    },
    {
      "cell_type": "markdown",
      "source": [
        "### 4. In class SLL, define a method insert_at_start() to insert an element at the starting of the list."
      ],
      "metadata": {
        "id": "GSSEBHdMMPdN"
      }
    },
    {
      "cell_type": "code",
      "source": [
        "class Node:\n",
        "  def __init__(self,aitem = None ,anext = None):\n",
        "    self.item = aitem\n",
        "    self.next = anext\n",
        "\n",
        "class SLL:\n",
        "  def __init__(self,astart = None):\n",
        "    self.start = astart\n",
        "\n",
        "  def is_empty(self):\n",
        "    return self.start == None\n",
        "\n",
        "  def insert_at_start(self,value):\n",
        "    x = Node(value,)\n",
        "    self.start = x\n"
      ],
      "metadata": {
        "id": "75kyxLxMgwI3"
      },
      "execution_count": 27,
      "outputs": []
    },
    {
      "cell_type": "code",
      "source": [
        "y = SLL()"
      ],
      "metadata": {
        "id": "ibkcos04hciq"
      },
      "execution_count": 28,
      "outputs": []
    },
    {
      "cell_type": "code",
      "source": [
        "y.is_empty()"
      ],
      "metadata": {
        "colab": {
          "base_uri": "https://localhost:8080/"
        },
        "id": "3-ol-Goohgsx",
        "outputId": "2cc7235a-737e-4a5c-905f-4ff7e1f9ac9a"
      },
      "execution_count": 29,
      "outputs": [
        {
          "output_type": "execute_result",
          "data": {
            "text/plain": [
              "True"
            ]
          },
          "metadata": {},
          "execution_count": 29
        }
      ]
    },
    {
      "cell_type": "code",
      "source": [
        "y.insert_at_start(10)"
      ],
      "metadata": {
        "id": "ElY6UbgDhk_L"
      },
      "execution_count": 30,
      "outputs": []
    },
    {
      "cell_type": "code",
      "source": [
        "y.is_empty()"
      ],
      "metadata": {
        "colab": {
          "base_uri": "https://localhost:8080/"
        },
        "id": "GtWl3-Ghh2Jw",
        "outputId": "68c17234-06c2-4c4c-af75-944bd1ba7398"
      },
      "execution_count": 31,
      "outputs": [
        {
          "output_type": "execute_result",
          "data": {
            "text/plain": [
              "False"
            ]
          },
          "metadata": {},
          "execution_count": 31
        }
      ]
    },
    {
      "cell_type": "markdown",
      "source": [
        "### 4. In class SLL, define a method insert_at_last() to insert an element at the end of the list."
      ],
      "metadata": {
        "id": "Yd9kn9ccQOen"
      }
    },
    {
      "cell_type": "code",
      "source": [
        "class Node:\n",
        "  def __init__(self,aitem = None ,anext = None):\n",
        "    self.item = aitem\n",
        "    self.next = anext\n",
        "\n",
        "class SLL:\n",
        "  def __init__(self,astart = None):\n",
        "    self.start = astart\n",
        "\n",
        "  def is_empty(self):\n",
        "    return self.start == None\n",
        "\n",
        "  def insert_at_start(self,value):\n",
        "    x = Node(value,self.start)\n",
        "    self.start = x\n",
        "\n",
        "  def insert_at_last(self,value):\n",
        "    x = Node(value)\n",
        "    if not self.is_empty():\n",
        "      temp = self.start # temp here is a pointer pointing to the first node\n",
        "      while temp.next is not None: # temp pointer will execute till it is not None\n",
        "        temp = temp.next #pointer keeps on jumping from one node to next node\n",
        "      temp.next = x\n",
        "    else :\n",
        "      self.start = x"
      ],
      "metadata": {
        "id": "VIIvN_fDn0Gm"
      },
      "execution_count": 39,
      "outputs": []
    },
    {
      "cell_type": "code",
      "source": [
        "x = SLL()"
      ],
      "metadata": {
        "id": "b0y__YKTSswl"
      },
      "execution_count": 40,
      "outputs": []
    },
    {
      "cell_type": "code",
      "source": [
        "x.insert_at_last(90)"
      ],
      "metadata": {
        "id": "ALa-MckbS7JM"
      },
      "execution_count": 41,
      "outputs": []
    },
    {
      "cell_type": "code",
      "source": [
        "x.is_empty()"
      ],
      "metadata": {
        "colab": {
          "base_uri": "https://localhost:8080/"
        },
        "id": "5Vg-Uv7uS_FW",
        "outputId": "a29b5fc8-239b-4ac8-9900-85a666b956a8"
      },
      "execution_count": 42,
      "outputs": [
        {
          "output_type": "execute_result",
          "data": {
            "text/plain": [
              "False"
            ]
          },
          "metadata": {},
          "execution_count": 42
        }
      ]
    },
    {
      "cell_type": "markdown",
      "source": [
        "###6. In class SLL, define a method search() to find the node with specified element value."
      ],
      "metadata": {
        "id": "EyhVr1a_THgv"
      }
    },
    {
      "cell_type": "code",
      "source": [
        "class SLL:\n",
        "  def __init__(self,start = None):\n",
        "    self.start = start\n",
        "\n",
        "  def is_empty(self):\n",
        "    return self.start == None\n",
        "\n",
        "  def insert_at_start(self,data):\n",
        "    n = Node(data,self.start)\n",
        "    self.start = n\n",
        "\n",
        "  def insert_at_last(self,data):\n",
        "    n = Node(data)\n",
        "    if not self.is_empty():\n",
        "      temp = self.start #traverse karna seekho depth mey\n",
        "      while temp.next is not None:\n",
        "        temp = temp.next\n",
        "      temp.next = n\n",
        "    else :\n",
        "      self.start = n\n",
        "\n",
        "  def search(self,data):\n",
        "    temp = self.start #concept of traversing\n",
        "    while temp is not None:\n",
        "      if temp.item == data:\n",
        "        return temp\n",
        "      temp = temp.next\n",
        "    return None"
      ],
      "metadata": {
        "id": "XTCHeOQHSxNq"
      },
      "execution_count": null,
      "outputs": []
    },
    {
      "cell_type": "code",
      "source": [
        "print(x.search(75))"
      ],
      "metadata": {
        "colab": {
          "base_uri": "https://localhost:8080/"
        },
        "id": "2umh3fsQVoz-",
        "outputId": "d2d5efd5-dd1c-46f1-e98d-88e267c1df1f"
      },
      "execution_count": null,
      "outputs": [
        {
          "output_type": "stream",
          "name": "stdout",
          "text": [
            "None\n"
          ]
        }
      ]
    },
    {
      "cell_type": "code",
      "source": [
        "print(x.search(89))"
      ],
      "metadata": {
        "colab": {
          "base_uri": "https://localhost:8080/"
        },
        "id": "pqjLnpNdVO1v",
        "outputId": "67d596f0-59da-4450-a865-bba6e097edf6"
      },
      "execution_count": null,
      "outputs": [
        {
          "output_type": "stream",
          "name": "stdout",
          "text": [
            "None\n"
          ]
        }
      ]
    },
    {
      "cell_type": "code",
      "source": [
        "print(x.search(90))"
      ],
      "metadata": {
        "colab": {
          "base_uri": "https://localhost:8080/"
        },
        "id": "vu2urfpZVeYq",
        "outputId": "5345a5ef-4aed-49e1-ebc8-b22ab9aadf76"
      },
      "execution_count": null,
      "outputs": [
        {
          "output_type": "stream",
          "name": "stdout",
          "text": [
            "<__main__.Node object at 0x7856ac3c7640>\n"
          ]
        }
      ]
    },
    {
      "cell_type": "markdown",
      "source": [],
      "metadata": {
        "id": "MWzC5L-tVOe8"
      }
    },
    {
      "cell_type": "markdown",
      "source": [
        "### 7. In class SLL, define a method insert_after() to insert a new node after a given node of the list."
      ],
      "metadata": {
        "id": "6U6h4k9tVJPH"
      }
    },
    {
      "cell_type": "code",
      "source": [
        "class SLL:\n",
        "  def __init__(self,start = None):\n",
        "    self.start = start\n",
        "\n",
        "  def is_empty(self):\n",
        "    return self.start == None\n",
        "\n",
        "  def insert_at_start(self,data):\n",
        "    n = Node(data,self.start)\n",
        "    self.start = n\n",
        "\n",
        "  def insert_at_last(self,data):\n",
        "    n = Node(data)\n",
        "    if not self.is_empty():\n",
        "      temp = self.start #traverse karna seekho depth mey\n",
        "      while temp.next is not None:\n",
        "        temp = temp.next\n",
        "      temp.next = n\n",
        "    else :\n",
        "      self.start = n\n",
        "\n",
        "  def search(self,data):\n",
        "    temp = self.start\n",
        "    while temp is not None:\n",
        "      if temp.item == data:\n",
        "        return temp\n",
        "      temp = temp.next\n",
        "    return None\n",
        "\n",
        "  def insert_after(self,temp,data): #rewatch\n",
        "    if temp is not None:\n",
        "      n = Node(data,temp.next)\n",
        "      temp.next = n\n"
      ],
      "metadata": {
        "id": "2FVpGH9xU0J-"
      },
      "execution_count": null,
      "outputs": []
    },
    {
      "cell_type": "markdown",
      "source": [
        "###8. In class SLL, define a method to print all the elements of the list."
      ],
      "metadata": {
        "id": "PnCY-uSpXkfy"
      }
    },
    {
      "cell_type": "code",
      "source": [
        "class SLL:\n",
        "  def __init__(self,start = None):\n",
        "    self.start = start\n",
        "\n",
        "  def is_empty(self):\n",
        "    return self.start == None\n",
        "\n",
        "  def insert_at_start(self,data):\n",
        "    n = Node(data,self.start)\n",
        "    self.start = n\n",
        "\n",
        "  def insert_at_last(self,data):\n",
        "    n = Node(data)\n",
        "    if not self.is_empty():\n",
        "      temp = self.start #traverse karna seekho depth mey\n",
        "      while temp.next is not None:\n",
        "        temp = temp.next\n",
        "      temp.next = n\n",
        "    else :\n",
        "      self.start = n\n",
        "\n",
        "  def search(self,data):\n",
        "    temp = self.start\n",
        "    while temp is not None:\n",
        "      if temp.item == data:\n",
        "        return temp\n",
        "      temp = temp.next\n",
        "    return None\n",
        "\n",
        "  def insert_after(self,temp,data): #rewatch\n",
        "    if temp is not None:\n",
        "      n = Node(data,temp.next)\n",
        "      temp.next = n\n",
        "\n",
        "  def print_list(self):\n",
        "    temp = self.start\n",
        "    while temp is not None:\n",
        "      print(temp.item ,end = ' ')\n",
        "      temp = temp.next"
      ],
      "metadata": {
        "id": "ZpIxi8rFXdh5"
      },
      "execution_count": null,
      "outputs": []
    },
    {
      "cell_type": "code",
      "source": [
        "samadhan = SLL()"
      ],
      "metadata": {
        "id": "-ALUt9uyX6NP"
      },
      "execution_count": null,
      "outputs": []
    },
    {
      "cell_type": "code",
      "source": [
        "samadhan.insert_at_start(30)"
      ],
      "metadata": {
        "id": "iEYATJpbYBym"
      },
      "execution_count": null,
      "outputs": []
    },
    {
      "cell_type": "code",
      "source": [
        "samadhan.print_list()"
      ],
      "metadata": {
        "colab": {
          "base_uri": "https://localhost:8080/"
        },
        "id": "JZsqjWPAYBMG",
        "outputId": "5c3596e1-cdd5-4d4e-a8d8-51367d87c9a2"
      },
      "execution_count": null,
      "outputs": [
        {
          "output_type": "stream",
          "name": "stdout",
          "text": [
            "30 "
          ]
        }
      ]
    },
    {
      "cell_type": "code",
      "source": [
        "samadhan.insert_at_start(20)"
      ],
      "metadata": {
        "id": "EShItJm4rII3"
      },
      "execution_count": null,
      "outputs": []
    },
    {
      "cell_type": "code",
      "source": [
        "samadhan.print_list()"
      ],
      "metadata": {
        "colab": {
          "base_uri": "https://localhost:8080/"
        },
        "id": "7f3yzYjVrhYV",
        "outputId": "3965af79-3d20-471e-db84-acbed6bc0458"
      },
      "execution_count": null,
      "outputs": [
        {
          "output_type": "stream",
          "name": "stdout",
          "text": [
            "20 30 "
          ]
        }
      ]
    },
    {
      "cell_type": "code",
      "source": [
        "samadhan.insert_after(samadhan.search(20),45)"
      ],
      "metadata": {
        "id": "8lb_1XkgrjlO"
      },
      "execution_count": null,
      "outputs": []
    },
    {
      "cell_type": "code",
      "source": [
        "samadhan.print_list()"
      ],
      "metadata": {
        "colab": {
          "base_uri": "https://localhost:8080/"
        },
        "id": "sbenB0YTr2vG",
        "outputId": "df0f92d1-db1a-40de-a97d-8c8dd3f715f0"
      },
      "execution_count": null,
      "outputs": [
        {
          "output_type": "stream",
          "name": "stdout",
          "text": [
            "20 45 30 "
          ]
        }
      ]
    },
    {
      "cell_type": "code",
      "source": [
        "samadhan.insert_at_last(70)"
      ],
      "metadata": {
        "id": "R5VdOeuar5Vd"
      },
      "execution_count": null,
      "outputs": []
    },
    {
      "cell_type": "code",
      "source": [
        "samadhan.print_list()"
      ],
      "metadata": {
        "colab": {
          "base_uri": "https://localhost:8080/"
        },
        "id": "E4q4T8yXsAqj",
        "outputId": "7e2b991a-1b25-4300-886d-a62f748010d2"
      },
      "execution_count": null,
      "outputs": [
        {
          "output_type": "stream",
          "name": "stdout",
          "text": [
            "20 45 30 70 "
          ]
        }
      ]
    },
    {
      "cell_type": "code",
      "source": [
        "samadhan.is_empty()"
      ],
      "metadata": {
        "colab": {
          "base_uri": "https://localhost:8080/"
        },
        "id": "vjJwVRmDsCT9",
        "outputId": "c1f9348f-092c-43bf-bb5b-b45be46a2c11"
      },
      "execution_count": null,
      "outputs": [
        {
          "output_type": "execute_result",
          "data": {
            "text/plain": [
              "False"
            ]
          },
          "metadata": {},
          "execution_count": 17
        }
      ]
    },
    {
      "cell_type": "markdown",
      "source": [
        "### 9.In class SLL, define a method delete_first() to delete first element from the list."
      ],
      "metadata": {
        "id": "S7FMYi3hsPE0"
      }
    },
    {
      "cell_type": "code",
      "source": [
        "class SLL:\n",
        "  def __init__(self,start = None):\n",
        "    self.start = start\n",
        "\n",
        "  def is_empty(self):\n",
        "    return self.start == None\n",
        "\n",
        "  def insert_at_start(self,data):\n",
        "    n = Node(data,self.start)\n",
        "    self.start = n\n",
        "\n",
        "  def insert_at_last(self,data):\n",
        "    n = Node(data)\n",
        "    if not self.is_empty():\n",
        "      temp = self.start #traverse karna seekho depth mey\n",
        "      while temp.next is not None:\n",
        "        temp = temp.next\n",
        "      temp.next = n\n",
        "    else :\n",
        "      self.start = n\n",
        "\n",
        "  def search(self,data):\n",
        "    temp = self.start\n",
        "    while temp is not None:\n",
        "      if temp.item == data:\n",
        "        return temp\n",
        "      temp = temp.next\n",
        "    return None\n",
        "\n",
        "  def insert_after(self,temp,data): #rewatch\n",
        "    if temp is not None:\n",
        "      n = Node(data,temp.next)\n",
        "      temp.next = n\n",
        "\n",
        "  def print_list(self):\n",
        "    temp = self.start\n",
        "    while temp is not None:\n",
        "      print(temp.item ,end = ' ')\n",
        "      temp = temp.next\n",
        "\n",
        "  def delete_first(self):\n",
        "    if self.start is not None :\n",
        "      self.start = self.start.next"
      ],
      "metadata": {
        "id": "Ot-HhOEjsHuL"
      },
      "execution_count": null,
      "outputs": []
    },
    {
      "cell_type": "markdown",
      "source": [
        "###10. In class SLL, define a method delete_last() to delete last element from the list."
      ],
      "metadata": {
        "id": "9bkKKKqFu7S2"
      }
    },
    {
      "cell_type": "code",
      "source": [
        "class SLL:\n",
        "  def __init__(self,start = None):\n",
        "    self.start = start\n",
        "\n",
        "  def is_empty(self):\n",
        "    return self.start == None\n",
        "\n",
        "  def insert_at_start(self,data):\n",
        "    n = Node(data,self.start)\n",
        "    self.start = n\n",
        "\n",
        "  def insert_at_last(self,data):\n",
        "    n = Node(data)\n",
        "    if not self.is_empty():\n",
        "      temp = self.start #traverse karna seekho depth mey\n",
        "      while temp.next is not None:\n",
        "        temp = temp.next\n",
        "      temp.next = n\n",
        "    else :\n",
        "      self.start = n\n",
        "\n",
        "  def search(self,data):\n",
        "    temp = self.start\n",
        "    while temp is not None:\n",
        "      if temp.item == data:\n",
        "        return temp\n",
        "      temp = temp.next\n",
        "    return None\n",
        "\n",
        "  def insert_after(self,temp,data): #rewatch\n",
        "    if temp is not None:\n",
        "      n = Node(data,temp.next)\n",
        "      temp.next = n\n",
        "\n",
        "  def print_list(self):\n",
        "    temp = self.start\n",
        "    while temp is not None:\n",
        "      print(temp.item ,end = ' ')\n",
        "      temp = temp.next\n",
        "\n",
        "  def delete_first(self):\n",
        "    if self.start is not None :\n",
        "      self.start = self.start.next\n",
        "\n",
        "  def delete_last(self):\n",
        "    if self.start is None:\n",
        "      pass\n",
        "    elif self.start.next is None:\n",
        "      self.start = None\n",
        "    else:\n",
        "      temp = self.start\n",
        "      while temp.next.next is not None:\n",
        "        temp = temp.next\n",
        "      temp.next = None"
      ],
      "metadata": {
        "id": "4URu8gLbs513"
      },
      "execution_count": null,
      "outputs": []
    },
    {
      "cell_type": "markdown",
      "source": [
        "###11. In class SLL, define a method delete_item() to delete specified element from the list."
      ],
      "metadata": {
        "id": "pSryPqLyvJq5"
      }
    },
    {
      "cell_type": "code",
      "source": [
        "class SLL:\n",
        "  def __init__(self,start = None):\n",
        "    self.start = start\n",
        "\n",
        "  def is_empty(self):\n",
        "    return self.start == None\n",
        "\n",
        "  def insert_at_start(self,data):\n",
        "    n = Node(data,self.start)\n",
        "    self.start = n\n",
        "\n",
        "  def insert_at_last(self,data):\n",
        "    n = Node(data)\n",
        "    if not self.is_empty():\n",
        "      temp = self.start #traverse karna seekho depth mey\n",
        "      while temp.next is not None:\n",
        "        temp = temp.next\n",
        "      temp.next = n\n",
        "    else :\n",
        "      self.start = n\n",
        "\n",
        "  def search(self,data):\n",
        "    temp = self.start\n",
        "    while temp is not None:\n",
        "      if temp.item == data:\n",
        "        return temp\n",
        "      temp = temp.next\n",
        "    return None\n",
        "\n",
        "  def insert_after(self,temp,data): #rewatch\n",
        "    if temp is not None:\n",
        "      n = Node(data,temp.next)\n",
        "      temp.next = n\n",
        "\n",
        "  def print_list(self):\n",
        "    temp = self.start\n",
        "    while temp is not None:\n",
        "      print(temp.item ,end = ' ')\n",
        "      temp = temp.next\n",
        "\n",
        "  def delete_first(self):\n",
        "    if self.start is not None :\n",
        "      self.start = self.start.next\n",
        "\n",
        "  def delete_last(self):\n",
        "    if self.start is None:\n",
        "      pass\n",
        "    elif self.start.next is None:\n",
        "      self.start = None\n",
        "    else:\n",
        "      temp = self.start\n",
        "      while temp.next.next is not None:\n",
        "        temp = temp.next\n",
        "      temp.next = None\n",
        "\n",
        "  def delete_item(self,data):\n",
        "    if self.start is None:\n",
        "      pass # if list linked list is empty don't do anything\n",
        "    elif self.start.next is None: #checking if this is first element of list\n",
        "      if self.start.item == data : #if first node item matches the item to delete\n",
        "        self.start = None #if matches assign start a None\n",
        "    else : #if it is not first element then this else will work\n",
        "      temp = self.start #now we are traversing on all the item of linked list\n",
        "      if temp.item == data:\n",
        "        self.start = temp.next\n",
        "      else :\n",
        "        while temp.next is not None:\n",
        "          if temp.next.item == data:\n",
        "            temp.next = temp.mext.next\n",
        "            break\n",
        "            temp = temp.next"
      ],
      "metadata": {
        "id": "Ty_IJ1s5vLfh"
      },
      "execution_count": null,
      "outputs": []
    },
    {
      "cell_type": "markdown",
      "source": [
        "###12. In class SLL, implement iterator for SLL to access all the elements of the list in a sequence"
      ],
      "metadata": {
        "id": "N_DnA9v_1OIX"
      }
    },
    {
      "cell_type": "markdown",
      "source": [
        "####without iterator"
      ],
      "metadata": {
        "id": "w2XwxuSFcTCm"
      }
    },
    {
      "cell_type": "code",
      "source": [
        "class SLL:\n",
        "  def __init__(self,start = None):\n",
        "    self.start = start\n",
        "\n",
        "  def is_empty(self):\n",
        "    return self.start == None\n",
        "\n",
        "  def insert_at_start(self,data):\n",
        "    n = Node(data,self.start)\n",
        "    self.start = n\n",
        "\n",
        "  def insert_at_last(self,data):\n",
        "    n = Node(data)\n",
        "    if not self.is_empty():\n",
        "      temp = self.start #traverse karna seekho depth mey\n",
        "      while temp.next is not None:\n",
        "        temp = temp.next\n",
        "      temp.next = n\n",
        "    else :\n",
        "      self.start = n\n",
        "\n",
        "  def search(self,data):\n",
        "    temp = self.start\n",
        "    while temp is not None:\n",
        "      if temp.item == data:\n",
        "        return temp\n",
        "      temp = temp.next\n",
        "    return None\n",
        "\n",
        "  def insert_after(self,temp,data): #rewatch\n",
        "    if temp is not None:\n",
        "      n = Node(data,temp.next)\n",
        "      temp.next = n\n",
        "\n",
        "  def print_list(self):\n",
        "    temp = self.start\n",
        "    while temp is not None:\n",
        "      print(temp.item ,end = ' ')\n",
        "      temp = temp.next\n",
        "\n",
        "  def delete_first(self):\n",
        "    if self.start is not None :\n",
        "      self.start = self.start.next\n",
        "\n",
        "  def delete_last(self):\n",
        "    if self.start is None:\n",
        "      pass\n",
        "    elif self.start.next is None:\n",
        "      self.start = None\n",
        "    else:\n",
        "      temp = self.start\n",
        "      while temp.next.next is not None:\n",
        "        temp = temp.next\n",
        "      temp.next = None\n",
        "\n",
        "  def delete_item(self,data):\n",
        "    if self.start is None:\n",
        "      pass # if list linked list is empty don't do anything\n",
        "    elif self.start.next is None: #checking if this is first element of list\n",
        "      if self.start.item == data : #if first node item matches the item to delete\n",
        "        self.start = None #if matches assign start a None\n",
        "    else : #if it is not first element then this else will work\n",
        "      temp = self.start #now we are traversing on all the item of linked list\n",
        "      if temp.item == data:\n",
        "        self.start = temp.next\n",
        "      else :\n",
        "        while temp.next is not None:\n",
        "          if temp.next.item == data:\n",
        "            temp.next = temp.mext.next\n",
        "            break\n",
        "            temp = temp.next"
      ],
      "metadata": {
        "id": "KvIpcyxOPhH2"
      },
      "execution_count": null,
      "outputs": []
    },
    {
      "cell_type": "code",
      "source": [
        "x = SLL()"
      ],
      "metadata": {
        "id": "OZZUNB9WPjdT"
      },
      "execution_count": null,
      "outputs": []
    },
    {
      "cell_type": "code",
      "source": [
        "x.is_empty()"
      ],
      "metadata": {
        "colab": {
          "base_uri": "https://localhost:8080/"
        },
        "id": "X5yXnt8gPmRS",
        "outputId": "7c5e0639-b50d-4aae-84a7-7fc4678fa2b4"
      },
      "execution_count": null,
      "outputs": [
        {
          "output_type": "execute_result",
          "data": {
            "text/plain": [
              "True"
            ]
          },
          "metadata": {},
          "execution_count": 42
        }
      ]
    },
    {
      "cell_type": "code",
      "source": [
        "x.insert_at_start(10)\n",
        "x.insert_at_last(45)\n",
        "x.insert_after(x.search(45),65)"
      ],
      "metadata": {
        "id": "Ox_99MVUPpEp"
      },
      "execution_count": null,
      "outputs": []
    },
    {
      "cell_type": "code",
      "source": [
        "x.print_list()"
      ],
      "metadata": {
        "colab": {
          "base_uri": "https://localhost:8080/"
        },
        "id": "QJp3EqUvP-u0",
        "outputId": "3e4b9df2-1278-4234-c7a5-2c7c9c7f4156"
      },
      "execution_count": null,
      "outputs": [
        {
          "output_type": "stream",
          "name": "stdout",
          "text": [
            "10 45 65 "
          ]
        }
      ]
    },
    {
      "cell_type": "code",
      "source": [
        "#is iteration on my class\n",
        "for i in x:\n",
        "  print(i)"
      ],
      "metadata": {
        "colab": {
          "base_uri": "https://localhost:8080/",
          "height": 197
        },
        "id": "c3h9JrM3RNVO",
        "outputId": "53206cc8-1764-47d5-ad8e-551d6b617ea2"
      },
      "execution_count": null,
      "outputs": [
        {
          "output_type": "error",
          "ename": "TypeError",
          "evalue": "ignored",
          "traceback": [
            "\u001b[0;31m---------------------------------------------------------------------------\u001b[0m",
            "\u001b[0;31mTypeError\u001b[0m                                 Traceback (most recent call last)",
            "\u001b[0;32m<ipython-input-26-edf5bf615ca5>\u001b[0m in \u001b[0;36m<cell line: 1>\u001b[0;34m()\u001b[0m\n\u001b[0;32m----> 1\u001b[0;31m \u001b[0;32mfor\u001b[0m \u001b[0mi\u001b[0m \u001b[0;32min\u001b[0m \u001b[0mx\u001b[0m\u001b[0;34m:\u001b[0m\u001b[0;34m\u001b[0m\u001b[0;34m\u001b[0m\u001b[0m\n\u001b[0m\u001b[1;32m      2\u001b[0m   \u001b[0mprint\u001b[0m\u001b[0;34m(\u001b[0m\u001b[0mi\u001b[0m\u001b[0;34m)\u001b[0m\u001b[0;34m\u001b[0m\u001b[0;34m\u001b[0m\u001b[0m\n",
            "\u001b[0;31mTypeError\u001b[0m: 'SLL' object is not iterable"
          ]
        }
      ]
    },
    {
      "cell_type": "markdown",
      "source": [
        "####with Iterator:"
      ],
      "metadata": {
        "id": "tcgM4lh-cg_A"
      }
    },
    {
      "cell_type": "code",
      "source": [
        "class SLL:\n",
        "  def __init__(self,start = None):\n",
        "    self.start = start\n",
        "\n",
        "  def is_empty(self):\n",
        "    return self.start == None\n",
        "\n",
        "  def insert_at_start(self,data):\n",
        "    n = Node(data,self.start)\n",
        "    self.start = n\n",
        "\n",
        "  def insert_at_last(self,data):\n",
        "    n = Node(data)\n",
        "    if not self.is_empty():\n",
        "      temp = self.start #traverse karna seekho depth mey\n",
        "      while temp.next is not None:\n",
        "        temp = temp.next\n",
        "      temp.next = n\n",
        "    else :\n",
        "      self.start = n\n",
        "\n",
        "  def search(self,data):\n",
        "    temp = self.start\n",
        "    while temp is not None:\n",
        "      if temp.item == data:\n",
        "        return temp\n",
        "      temp = temp.next\n",
        "    return None\n",
        "\n",
        "  def insert_after(self,temp,data): #rewatch\n",
        "    if temp is not None:\n",
        "      n = Node(data,temp.next)\n",
        "      temp.next = n\n",
        "\n",
        "  def print_list(self):\n",
        "    temp = self.start\n",
        "    while temp is not None:\n",
        "      print(temp.item ,end = ' ')\n",
        "      temp = temp.next\n",
        "\n",
        "  def delete_first(self):\n",
        "    if self.start is not None :\n",
        "      self.start = self.start.next\n",
        "  def __iter__(self):\n",
        "    return SLLiterator(self.start)  # Pass self.start to the iterator\n",
        "\n",
        "  def delete_last(self):\n",
        "    if self.start is None:\n",
        "      pass\n",
        "    elif self.start.next is None:\n",
        "      self.start = None\n",
        "    else:\n",
        "      temp = self.start\n",
        "      while temp.next.next is not None:\n",
        "        temp = temp.next\n",
        "      temp.next = None\n",
        "\n",
        "  def delete_item(self,data):\n",
        "    if self.start is None:\n",
        "      pass # if list linked list is empty don't do anything\n",
        "    elif self.start.next is None: #checking if this is first element of list\n",
        "      if self.start.item == data : #if first node item matches the item to delete\n",
        "        self.start = None #if matches assign start a None\n",
        "    else : #if it is not first element then this else will work\n",
        "      temp = self.start #now we are traversing on all the item of linked list\n",
        "      if temp.item == data:\n",
        "        self.start = temp.next\n",
        "      else :\n",
        "        while temp.next is not None:\n",
        "          if temp.next.item == data:\n",
        "            temp.next = temp.mext.next\n",
        "            break\n",
        "            temp = temp.next\n",
        "  def __iter__(self):\n",
        "    return SLLiterator(self.start)  # Pass self.start to the iterator\n",
        "\n",
        "class SLLiterator:\n",
        "  def __init__(self, start):\n",
        "    self.current = start\n",
        "\n",
        "  def __iter__(self):\n",
        "    return self\n",
        "\n",
        "  def __next__(self):\n",
        "      if not self.current:\n",
        "          raise StopIteration\n",
        "      data = self.current.item\n",
        "      self.current = self.current.next\n",
        "      return data"
      ],
      "metadata": {
        "id": "JzvWxgQDRVYn"
      },
      "execution_count": null,
      "outputs": []
    },
    {
      "cell_type": "code",
      "source": [
        "x = SLL()"
      ],
      "metadata": {
        "id": "vnAKVC-kcoLz"
      },
      "execution_count": null,
      "outputs": []
    },
    {
      "cell_type": "code",
      "source": [
        "x.is_empty()"
      ],
      "metadata": {
        "id": "hqYD5g-ccqRo"
      },
      "execution_count": null,
      "outputs": []
    },
    {
      "cell_type": "code",
      "source": [
        "x.insert_at_start(10)\n",
        "x.insert_at_last(45)\n",
        "x.insert_after(x.search(45),65)"
      ],
      "metadata": {
        "id": "rGFOJjxdcscw"
      },
      "execution_count": null,
      "outputs": []
    },
    {
      "cell_type": "code",
      "source": [
        "for i in x:\n",
        "  print(i)"
      ],
      "metadata": {
        "colab": {
          "base_uri": "https://localhost:8080/"
        },
        "id": "KqHsrjPYRv1G",
        "outputId": "b8097001-3b1e-4c7a-bf0d-6143961b96b6"
      },
      "execution_count": null,
      "outputs": [
        {
          "output_type": "stream",
          "name": "stdout",
          "text": [
            "10\n",
            "45\n",
            "65\n"
          ]
        }
      ]
    },
    {
      "cell_type": "markdown",
      "source": [
        "###complete piece of code for singly linked list:"
      ],
      "metadata": {
        "id": "bHet-Dr8cG7S"
      }
    },
    {
      "cell_type": "code",
      "source": [
        "class Node:\n",
        "    def __init__(self, item, next=None):\n",
        "        self.item = item\n",
        "        self.next = next\n",
        "\n",
        "class SLL:\n",
        "    def __init__(self, start=None):\n",
        "        self.start = start\n",
        "\n",
        "    def is_empty(self):\n",
        "        return self.start is None\n",
        "\n",
        "    def insert_at_start(self, data):\n",
        "        n = Node(data, self.start)\n",
        "        self.start = n\n",
        "\n",
        "    def insert_at_last(self, data):\n",
        "        n = Node(data)\n",
        "        if not self.is_empty():\n",
        "            temp = self.start\n",
        "            while temp.next is not None:\n",
        "                temp = temp.next\n",
        "            temp.next = n\n",
        "        else:\n",
        "            self.start = n\n",
        "\n",
        "    def search(self, data):\n",
        "        temp = self.start\n",
        "        while temp is not None:\n",
        "            if temp.item == data:\n",
        "                return temp\n",
        "            temp = temp.next\n",
        "        return None\n",
        "\n",
        "    def insert_after(self, temp, data):\n",
        "        if temp is not None:\n",
        "            n = Node(data, temp.next)\n",
        "            temp.next = n\n",
        "\n",
        "    def print_list(self):\n",
        "        temp = self.start\n",
        "        while temp is not None:\n",
        "            print(temp.item, end=' ')\n",
        "            temp = temp.next\n",
        "\n",
        "    def delete_first(self):\n",
        "        if self.start is not None:\n",
        "            self.start = self.start.next\n",
        "\n",
        "    def delete_last(self):\n",
        "        if self.start is None:\n",
        "            pass\n",
        "        elif self.start.next is None:\n",
        "            self.start = None\n",
        "        else:\n",
        "            temp = self.start\n",
        "            while temp.next.next is not None:\n",
        "                temp = temp.next\n",
        "            temp.next = None\n",
        "\n",
        "    def delete_item(self, data):\n",
        "        if self.start is None:\n",
        "            pass\n",
        "        elif self.start.next is None:\n",
        "            if self.start.item == data:\n",
        "                self.start = None\n",
        "        else:\n",
        "            temp = self.start\n",
        "            if temp.item == data:\n",
        "                self.start = temp.next\n",
        "            else:\n",
        "                while temp.next is not None:\n",
        "                    if temp.next.item == data:\n",
        "                        temp.next = temp.next.next\n",
        "                        break\n",
        "                    temp = temp.next\n",
        "\n",
        "    def __iter__(self):\n",
        "        return SLLiterator(self.start)\n",
        "\n",
        "\n",
        "class SLLiterator:\n",
        "    def __init__(self, start):\n",
        "        self.current = start\n",
        "\n",
        "    def __iter__(self):\n",
        "        return self\n",
        "\n",
        "    def __next__(self):\n",
        "        if not self.current:\n",
        "            raise StopIteration\n",
        "        data = self.current.item\n",
        "        self.current = self.current.next\n",
        "        return data\n",
        "\n",
        "# Example usage:\n",
        "sll = SLL()\n",
        "sll.insert_at_last(1)\n",
        "sll.insert_at_last(2)\n",
        "sll.insert_at_last(3)\n",
        "\n",
        "# Iterate over the linked list using the iterator\n",
        "for item in sll:\n",
        "    print(item)\n"
      ],
      "metadata": {
        "colab": {
          "base_uri": "https://localhost:8080/"
        },
        "id": "6lA92ziqRyMN",
        "outputId": "640b9cbc-1542-4b85-e569-b030ba446e86"
      },
      "execution_count": null,
      "outputs": [
        {
          "output_type": "stream",
          "name": "stdout",
          "text": [
            "1\n",
            "2\n",
            "3\n"
          ]
        }
      ]
    },
    {
      "cell_type": "code",
      "source": [],
      "metadata": {
        "id": "3mFEXv0ZUfLb"
      },
      "execution_count": null,
      "outputs": []
    }
  ]
}